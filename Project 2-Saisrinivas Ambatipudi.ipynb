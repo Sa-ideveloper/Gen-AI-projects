{
 "cells": [
  {
   "cell_type": "markdown",
   "metadata": {
    "deletable": false,
    "editable": false,
    "id": "idEvhOXix_jg",
    "run_control": {
     "frozen": true
    }
   },
   "source": [
    "## **Play Store Apps Analysis**\n",
    "Imagine you're diving into a big dataset from the Google Play Store. You'll be using Python to explore it and find interesting insights.\n",
    "\n",
    "First, the data will be cleaned up using Python to fix any mistakes and make it look neat.\n",
    "\n",
    "Once the data is clean, SQL will be used to find hidden patterns and correlations in the data. However, in this project, we are only going to work on cleaning tasks.\n",
    "\n",
    "Visualizations will also be created to make it easier to understand the data. Charts and graphs will show patterns and trends.\n",
    "\n",
    "By the end, you'll have learned a lot about how to make smart decisions using data. This project helps everyone understand how to use data to make better choices in our digital world.\n",
    "\n",
    "Join this adventure as you explore the Google Play Store dataset. Get ready to find out all sorts of interesting things about your favorite apps!"
   ]
  },
  {
   "cell_type": "markdown",
   "metadata": {
    "deletable": false,
    "editable": false,
    "id": "JUtT3DDuzMg3",
    "run_control": {
     "frozen": true
    }
   },
   "source": [
    "### **Install the required libraries**\n",
    "**langchain**: An open source framework for building applications based on large language models (LLMs).\n",
    "\n",
    "**langchain_experimental**: An experimental extension of the langchain library, offering cutting-edge features and functionalities for advanced natural language processing tasks.\n",
    "\n",
    "**openai**: A powerful Python library developed by OpenAI, offering state-of-the-art natural language processing capabilities. It provides tools and utilities for a wide range of NLP tasks, including text generation, text classification, language translation, and more."
   ]
  },
  {
   "cell_type": "code",
   "execution_count": 1,
   "metadata": {
    "id": "IeK4Va9GzpWG"
   },
   "outputs": [
    {
     "name": "stdout",
     "output_type": "stream",
     "text": [
      "Requirement already satisfied: langchain in c:\\users\\saisr\\anaconda3\\lib\\site-packages (0.1.11)\n",
      "Requirement already satisfied: PyYAML>=5.3 in c:\\users\\saisr\\anaconda3\\lib\\site-packages (from langchain) (6.0)\n",
      "Requirement already satisfied: SQLAlchemy<3,>=1.4 in c:\\users\\saisr\\anaconda3\\lib\\site-packages (from langchain) (2.0.21)\n",
      "Requirement already satisfied: aiohttp<4.0.0,>=3.8.3 in c:\\users\\saisr\\anaconda3\\lib\\site-packages (from langchain) (3.8.5)\n",
      "Requirement already satisfied: dataclasses-json<0.7,>=0.5.7 in c:\\users\\saisr\\anaconda3\\lib\\site-packages (from langchain) (0.6.4)\n",
      "Requirement already satisfied: jsonpatch<2.0,>=1.33 in c:\\users\\saisr\\anaconda3\\lib\\site-packages (from langchain) (1.33)\n",
      "Requirement already satisfied: langchain-community<0.1,>=0.0.25 in c:\\users\\saisr\\anaconda3\\lib\\site-packages (from langchain) (0.0.27)\n",
      "Requirement already satisfied: langchain-core<0.2,>=0.1.29 in c:\\users\\saisr\\anaconda3\\lib\\site-packages (from langchain) (0.1.30)\n",
      "Requirement already satisfied: langchain-text-splitters<0.1,>=0.0.1 in c:\\users\\saisr\\anaconda3\\lib\\site-packages (from langchain) (0.0.1)\n",
      "Requirement already satisfied: langsmith<0.2.0,>=0.1.17 in c:\\users\\saisr\\anaconda3\\lib\\site-packages (from langchain) (0.1.23)\n",
      "Requirement already satisfied: numpy<2,>=1 in c:\\users\\saisr\\anaconda3\\lib\\site-packages (from langchain) (1.24.3)\n",
      "Requirement already satisfied: pydantic<3,>=1 in c:\\users\\saisr\\anaconda3\\lib\\site-packages (from langchain) (1.10.12)\n",
      "Requirement already satisfied: requests<3,>=2 in c:\\users\\saisr\\anaconda3\\lib\\site-packages (from langchain) (2.31.0)\n",
      "Requirement already satisfied: tenacity<9.0.0,>=8.1.0 in c:\\users\\saisr\\anaconda3\\lib\\site-packages (from langchain) (8.2.2)\n",
      "Requirement already satisfied: attrs>=17.3.0 in c:\\users\\saisr\\anaconda3\\lib\\site-packages (from aiohttp<4.0.0,>=3.8.3->langchain) (23.1.0)\n",
      "Requirement already satisfied: charset-normalizer<4.0,>=2.0 in c:\\users\\saisr\\anaconda3\\lib\\site-packages (from aiohttp<4.0.0,>=3.8.3->langchain) (2.0.4)\n",
      "Requirement already satisfied: multidict<7.0,>=4.5 in c:\\users\\saisr\\anaconda3\\lib\\site-packages (from aiohttp<4.0.0,>=3.8.3->langchain) (6.0.2)\n",
      "Requirement already satisfied: async-timeout<5.0,>=4.0.0a3 in c:\\users\\saisr\\anaconda3\\lib\\site-packages (from aiohttp<4.0.0,>=3.8.3->langchain) (4.0.2)\n",
      "Requirement already satisfied: yarl<2.0,>=1.0 in c:\\users\\saisr\\anaconda3\\lib\\site-packages (from aiohttp<4.0.0,>=3.8.3->langchain) (1.8.1)\n",
      "Requirement already satisfied: frozenlist>=1.1.1 in c:\\users\\saisr\\anaconda3\\lib\\site-packages (from aiohttp<4.0.0,>=3.8.3->langchain) (1.3.3)\n",
      "Requirement already satisfied: aiosignal>=1.1.2 in c:\\users\\saisr\\anaconda3\\lib\\site-packages (from aiohttp<4.0.0,>=3.8.3->langchain) (1.2.0)\n",
      "Requirement already satisfied: marshmallow<4.0.0,>=3.18.0 in c:\\users\\saisr\\anaconda3\\lib\\site-packages (from dataclasses-json<0.7,>=0.5.7->langchain) (3.21.1)\n",
      "Requirement already satisfied: typing-inspect<1,>=0.4.0 in c:\\users\\saisr\\anaconda3\\lib\\site-packages (from dataclasses-json<0.7,>=0.5.7->langchain) (0.9.0)\n",
      "Requirement already satisfied: jsonpointer>=1.9 in c:\\users\\saisr\\anaconda3\\lib\\site-packages (from jsonpatch<2.0,>=1.33->langchain) (2.1)\n",
      "Requirement already satisfied: anyio<5,>=3 in c:\\users\\saisr\\anaconda3\\lib\\site-packages (from langchain-core<0.2,>=0.1.29->langchain) (3.5.0)\n",
      "Requirement already satisfied: packaging<24.0,>=23.2 in c:\\users\\saisr\\anaconda3\\lib\\site-packages (from langchain-core<0.2,>=0.1.29->langchain) (23.2)\n",
      "Requirement already satisfied: orjson<4.0.0,>=3.9.14 in c:\\users\\saisr\\anaconda3\\lib\\site-packages (from langsmith<0.2.0,>=0.1.17->langchain) (3.9.15)\n",
      "Requirement already satisfied: typing-extensions>=4.2.0 in c:\\users\\saisr\\anaconda3\\lib\\site-packages (from pydantic<3,>=1->langchain) (4.7.1)\n",
      "Requirement already satisfied: idna<4,>=2.5 in c:\\users\\saisr\\anaconda3\\lib\\site-packages (from requests<3,>=2->langchain) (3.4)\n",
      "Requirement already satisfied: urllib3<3,>=1.21.1 in c:\\users\\saisr\\anaconda3\\lib\\site-packages (from requests<3,>=2->langchain) (1.26.16)\n",
      "Requirement already satisfied: certifi>=2017.4.17 in c:\\users\\saisr\\anaconda3\\lib\\site-packages (from requests<3,>=2->langchain) (2023.7.22)\n",
      "Requirement already satisfied: greenlet!=0.4.17 in c:\\users\\saisr\\anaconda3\\lib\\site-packages (from SQLAlchemy<3,>=1.4->langchain) (2.0.1)\n",
      "Requirement already satisfied: sniffio>=1.1 in c:\\users\\saisr\\anaconda3\\lib\\site-packages (from anyio<5,>=3->langchain-core<0.2,>=0.1.29->langchain) (1.2.0)\n",
      "Requirement already satisfied: mypy-extensions>=0.3.0 in c:\\users\\saisr\\anaconda3\\lib\\site-packages (from typing-inspect<1,>=0.4.0->dataclasses-json<0.7,>=0.5.7->langchain) (1.0.0)\n",
      "Requirement already satisfied: langchain_experimental in c:\\users\\saisr\\anaconda3\\lib\\site-packages (0.0.53)\n",
      "Requirement already satisfied: langchain<0.2.0,>=0.1.8 in c:\\users\\saisr\\anaconda3\\lib\\site-packages (from langchain_experimental) (0.1.11)\n",
      "Requirement already satisfied: langchain-core<0.2.0,>=0.1.27 in c:\\users\\saisr\\anaconda3\\lib\\site-packages (from langchain_experimental) (0.1.30)\n",
      "Requirement already satisfied: PyYAML>=5.3 in c:\\users\\saisr\\anaconda3\\lib\\site-packages (from langchain<0.2.0,>=0.1.8->langchain_experimental) (6.0)\n",
      "Requirement already satisfied: SQLAlchemy<3,>=1.4 in c:\\users\\saisr\\anaconda3\\lib\\site-packages (from langchain<0.2.0,>=0.1.8->langchain_experimental) (2.0.21)\n",
      "Requirement already satisfied: aiohttp<4.0.0,>=3.8.3 in c:\\users\\saisr\\anaconda3\\lib\\site-packages (from langchain<0.2.0,>=0.1.8->langchain_experimental) (3.8.5)\n",
      "Requirement already satisfied: dataclasses-json<0.7,>=0.5.7 in c:\\users\\saisr\\anaconda3\\lib\\site-packages (from langchain<0.2.0,>=0.1.8->langchain_experimental) (0.6.4)\n",
      "Requirement already satisfied: jsonpatch<2.0,>=1.33 in c:\\users\\saisr\\anaconda3\\lib\\site-packages (from langchain<0.2.0,>=0.1.8->langchain_experimental) (1.33)\n",
      "Requirement already satisfied: langchain-community<0.1,>=0.0.25 in c:\\users\\saisr\\anaconda3\\lib\\site-packages (from langchain<0.2.0,>=0.1.8->langchain_experimental) (0.0.27)\n",
      "Requirement already satisfied: langchain-text-splitters<0.1,>=0.0.1 in c:\\users\\saisr\\anaconda3\\lib\\site-packages (from langchain<0.2.0,>=0.1.8->langchain_experimental) (0.0.1)\n",
      "Requirement already satisfied: langsmith<0.2.0,>=0.1.17 in c:\\users\\saisr\\anaconda3\\lib\\site-packages (from langchain<0.2.0,>=0.1.8->langchain_experimental) (0.1.23)\n",
      "Requirement already satisfied: numpy<2,>=1 in c:\\users\\saisr\\anaconda3\\lib\\site-packages (from langchain<0.2.0,>=0.1.8->langchain_experimental) (1.24.3)\n",
      "Requirement already satisfied: pydantic<3,>=1 in c:\\users\\saisr\\anaconda3\\lib\\site-packages (from langchain<0.2.0,>=0.1.8->langchain_experimental) (1.10.12)\n",
      "Requirement already satisfied: requests<3,>=2 in c:\\users\\saisr\\anaconda3\\lib\\site-packages (from langchain<0.2.0,>=0.1.8->langchain_experimental) (2.31.0)\n",
      "Requirement already satisfied: tenacity<9.0.0,>=8.1.0 in c:\\users\\saisr\\anaconda3\\lib\\site-packages (from langchain<0.2.0,>=0.1.8->langchain_experimental) (8.2.2)\n",
      "Requirement already satisfied: anyio<5,>=3 in c:\\users\\saisr\\anaconda3\\lib\\site-packages (from langchain-core<0.2.0,>=0.1.27->langchain_experimental) (3.5.0)\n",
      "Requirement already satisfied: packaging<24.0,>=23.2 in c:\\users\\saisr\\anaconda3\\lib\\site-packages (from langchain-core<0.2.0,>=0.1.27->langchain_experimental) (23.2)\n",
      "Requirement already satisfied: attrs>=17.3.0 in c:\\users\\saisr\\anaconda3\\lib\\site-packages (from aiohttp<4.0.0,>=3.8.3->langchain<0.2.0,>=0.1.8->langchain_experimental) (23.1.0)\n",
      "Requirement already satisfied: charset-normalizer<4.0,>=2.0 in c:\\users\\saisr\\anaconda3\\lib\\site-packages (from aiohttp<4.0.0,>=3.8.3->langchain<0.2.0,>=0.1.8->langchain_experimental) (2.0.4)\n",
      "Requirement already satisfied: multidict<7.0,>=4.5 in c:\\users\\saisr\\anaconda3\\lib\\site-packages (from aiohttp<4.0.0,>=3.8.3->langchain<0.2.0,>=0.1.8->langchain_experimental) (6.0.2)\n",
      "Requirement already satisfied: async-timeout<5.0,>=4.0.0a3 in c:\\users\\saisr\\anaconda3\\lib\\site-packages (from aiohttp<4.0.0,>=3.8.3->langchain<0.2.0,>=0.1.8->langchain_experimental) (4.0.2)\n",
      "Requirement already satisfied: yarl<2.0,>=1.0 in c:\\users\\saisr\\anaconda3\\lib\\site-packages (from aiohttp<4.0.0,>=3.8.3->langchain<0.2.0,>=0.1.8->langchain_experimental) (1.8.1)\n",
      "Requirement already satisfied: frozenlist>=1.1.1 in c:\\users\\saisr\\anaconda3\\lib\\site-packages (from aiohttp<4.0.0,>=3.8.3->langchain<0.2.0,>=0.1.8->langchain_experimental) (1.3.3)\n",
      "Requirement already satisfied: aiosignal>=1.1.2 in c:\\users\\saisr\\anaconda3\\lib\\site-packages (from aiohttp<4.0.0,>=3.8.3->langchain<0.2.0,>=0.1.8->langchain_experimental) (1.2.0)\n",
      "Requirement already satisfied: idna>=2.8 in c:\\users\\saisr\\anaconda3\\lib\\site-packages (from anyio<5,>=3->langchain-core<0.2.0,>=0.1.27->langchain_experimental) (3.4)\n",
      "Requirement already satisfied: sniffio>=1.1 in c:\\users\\saisr\\anaconda3\\lib\\site-packages (from anyio<5,>=3->langchain-core<0.2.0,>=0.1.27->langchain_experimental) (1.2.0)\n",
      "Requirement already satisfied: marshmallow<4.0.0,>=3.18.0 in c:\\users\\saisr\\anaconda3\\lib\\site-packages (from dataclasses-json<0.7,>=0.5.7->langchain<0.2.0,>=0.1.8->langchain_experimental) (3.21.1)\n",
      "Requirement already satisfied: typing-inspect<1,>=0.4.0 in c:\\users\\saisr\\anaconda3\\lib\\site-packages (from dataclasses-json<0.7,>=0.5.7->langchain<0.2.0,>=0.1.8->langchain_experimental) (0.9.0)\n",
      "Requirement already satisfied: jsonpointer>=1.9 in c:\\users\\saisr\\anaconda3\\lib\\site-packages (from jsonpatch<2.0,>=1.33->langchain<0.2.0,>=0.1.8->langchain_experimental) (2.1)\n",
      "Requirement already satisfied: orjson<4.0.0,>=3.9.14 in c:\\users\\saisr\\anaconda3\\lib\\site-packages (from langsmith<0.2.0,>=0.1.17->langchain<0.2.0,>=0.1.8->langchain_experimental) (3.9.15)\n",
      "Requirement already satisfied: typing-extensions>=4.2.0 in c:\\users\\saisr\\anaconda3\\lib\\site-packages (from pydantic<3,>=1->langchain<0.2.0,>=0.1.8->langchain_experimental) (4.7.1)\n",
      "Requirement already satisfied: urllib3<3,>=1.21.1 in c:\\users\\saisr\\anaconda3\\lib\\site-packages (from requests<3,>=2->langchain<0.2.0,>=0.1.8->langchain_experimental) (1.26.16)\n",
      "Requirement already satisfied: certifi>=2017.4.17 in c:\\users\\saisr\\anaconda3\\lib\\site-packages (from requests<3,>=2->langchain<0.2.0,>=0.1.8->langchain_experimental) (2023.7.22)\n",
      "Requirement already satisfied: greenlet!=0.4.17 in c:\\users\\saisr\\anaconda3\\lib\\site-packages (from SQLAlchemy<3,>=1.4->langchain<0.2.0,>=0.1.8->langchain_experimental) (2.0.1)\n",
      "Requirement already satisfied: mypy-extensions>=0.3.0 in c:\\users\\saisr\\anaconda3\\lib\\site-packages (from typing-inspect<1,>=0.4.0->dataclasses-json<0.7,>=0.5.7->langchain<0.2.0,>=0.1.8->langchain_experimental) (1.0.0)\n"
     ]
    },
    {
     "name": "stdout",
     "output_type": "stream",
     "text": [
      "Requirement already satisfied: openai in c:\\users\\saisr\\anaconda3\\lib\\site-packages (1.13.3)\n",
      "Requirement already satisfied: anyio<5,>=3.5.0 in c:\\users\\saisr\\anaconda3\\lib\\site-packages (from openai) (3.5.0)\n",
      "Requirement already satisfied: distro<2,>=1.7.0 in c:\\users\\saisr\\anaconda3\\lib\\site-packages (from openai) (1.9.0)\n",
      "Requirement already satisfied: httpx<1,>=0.23.0 in c:\\users\\saisr\\anaconda3\\lib\\site-packages (from openai) (0.27.0)\n",
      "Requirement already satisfied: pydantic<3,>=1.9.0 in c:\\users\\saisr\\anaconda3\\lib\\site-packages (from openai) (1.10.12)\n",
      "Requirement already satisfied: sniffio in c:\\users\\saisr\\anaconda3\\lib\\site-packages (from openai) (1.2.0)\n",
      "Requirement already satisfied: tqdm>4 in c:\\users\\saisr\\anaconda3\\lib\\site-packages (from openai) (4.65.0)\n",
      "Requirement already satisfied: typing-extensions<5,>=4.7 in c:\\users\\saisr\\anaconda3\\lib\\site-packages (from openai) (4.7.1)\n",
      "Requirement already satisfied: idna>=2.8 in c:\\users\\saisr\\anaconda3\\lib\\site-packages (from anyio<5,>=3.5.0->openai) (3.4)\n",
      "Requirement already satisfied: certifi in c:\\users\\saisr\\anaconda3\\lib\\site-packages (from httpx<1,>=0.23.0->openai) (2023.7.22)\n",
      "Requirement already satisfied: httpcore==1.* in c:\\users\\saisr\\anaconda3\\lib\\site-packages (from httpx<1,>=0.23.0->openai) (1.0.4)\n",
      "Requirement already satisfied: h11<0.15,>=0.13 in c:\\users\\saisr\\anaconda3\\lib\\site-packages (from httpcore==1.*->httpx<1,>=0.23.0->openai) (0.14.0)\n",
      "Requirement already satisfied: colorama in c:\\users\\saisr\\anaconda3\\lib\\site-packages (from tqdm>4->openai) (0.4.6)\n",
      "Requirement already satisfied: langchain-openai in c:\\users\\saisr\\anaconda3\\lib\\site-packages (0.0.8)\n",
      "Requirement already satisfied: langchain-core<0.2.0,>=0.1.27 in c:\\users\\saisr\\anaconda3\\lib\\site-packages (from langchain-openai) (0.1.30)\n",
      "Requirement already satisfied: openai<2.0.0,>=1.10.0 in c:\\users\\saisr\\anaconda3\\lib\\site-packages (from langchain-openai) (1.13.3)\n",
      "Requirement already satisfied: tiktoken<1,>=0.5.2 in c:\\users\\saisr\\anaconda3\\lib\\site-packages (from langchain-openai) (0.6.0)\n",
      "Requirement already satisfied: PyYAML>=5.3 in c:\\users\\saisr\\anaconda3\\lib\\site-packages (from langchain-core<0.2.0,>=0.1.27->langchain-openai) (6.0)\n",
      "Requirement already satisfied: anyio<5,>=3 in c:\\users\\saisr\\anaconda3\\lib\\site-packages (from langchain-core<0.2.0,>=0.1.27->langchain-openai) (3.5.0)\n",
      "Requirement already satisfied: jsonpatch<2.0,>=1.33 in c:\\users\\saisr\\anaconda3\\lib\\site-packages (from langchain-core<0.2.0,>=0.1.27->langchain-openai) (1.33)\n",
      "Requirement already satisfied: langsmith<0.2.0,>=0.1.0 in c:\\users\\saisr\\anaconda3\\lib\\site-packages (from langchain-core<0.2.0,>=0.1.27->langchain-openai) (0.1.23)\n",
      "Requirement already satisfied: packaging<24.0,>=23.2 in c:\\users\\saisr\\anaconda3\\lib\\site-packages (from langchain-core<0.2.0,>=0.1.27->langchain-openai) (23.2)\n",
      "Requirement already satisfied: pydantic<3,>=1 in c:\\users\\saisr\\anaconda3\\lib\\site-packages (from langchain-core<0.2.0,>=0.1.27->langchain-openai) (1.10.12)\n",
      "Requirement already satisfied: requests<3,>=2 in c:\\users\\saisr\\anaconda3\\lib\\site-packages (from langchain-core<0.2.0,>=0.1.27->langchain-openai) (2.31.0)\n",
      "Requirement already satisfied: tenacity<9.0.0,>=8.1.0 in c:\\users\\saisr\\anaconda3\\lib\\site-packages (from langchain-core<0.2.0,>=0.1.27->langchain-openai) (8.2.2)\n",
      "Requirement already satisfied: distro<2,>=1.7.0 in c:\\users\\saisr\\anaconda3\\lib\\site-packages (from openai<2.0.0,>=1.10.0->langchain-openai) (1.9.0)\n",
      "Requirement already satisfied: httpx<1,>=0.23.0 in c:\\users\\saisr\\anaconda3\\lib\\site-packages (from openai<2.0.0,>=1.10.0->langchain-openai) (0.27.0)\n",
      "Requirement already satisfied: sniffio in c:\\users\\saisr\\anaconda3\\lib\\site-packages (from openai<2.0.0,>=1.10.0->langchain-openai) (1.2.0)\n",
      "Requirement already satisfied: tqdm>4 in c:\\users\\saisr\\anaconda3\\lib\\site-packages (from openai<2.0.0,>=1.10.0->langchain-openai) (4.65.0)\n",
      "Requirement already satisfied: typing-extensions<5,>=4.7 in c:\\users\\saisr\\anaconda3\\lib\\site-packages (from openai<2.0.0,>=1.10.0->langchain-openai) (4.7.1)\n",
      "Requirement already satisfied: regex>=2022.1.18 in c:\\users\\saisr\\anaconda3\\lib\\site-packages (from tiktoken<1,>=0.5.2->langchain-openai) (2022.7.9)\n",
      "Requirement already satisfied: idna>=2.8 in c:\\users\\saisr\\anaconda3\\lib\\site-packages (from anyio<5,>=3->langchain-core<0.2.0,>=0.1.27->langchain-openai) (3.4)\n",
      "Requirement already satisfied: certifi in c:\\users\\saisr\\anaconda3\\lib\\site-packages (from httpx<1,>=0.23.0->openai<2.0.0,>=1.10.0->langchain-openai) (2023.7.22)\n",
      "Requirement already satisfied: httpcore==1.* in c:\\users\\saisr\\anaconda3\\lib\\site-packages (from httpx<1,>=0.23.0->openai<2.0.0,>=1.10.0->langchain-openai) (1.0.4)\n",
      "Requirement already satisfied: h11<0.15,>=0.13 in c:\\users\\saisr\\anaconda3\\lib\\site-packages (from httpcore==1.*->httpx<1,>=0.23.0->openai<2.0.0,>=1.10.0->langchain-openai) (0.14.0)\n",
      "Requirement already satisfied: jsonpointer>=1.9 in c:\\users\\saisr\\anaconda3\\lib\\site-packages (from jsonpatch<2.0,>=1.33->langchain-core<0.2.0,>=0.1.27->langchain-openai) (2.1)\n",
      "Requirement already satisfied: orjson<4.0.0,>=3.9.14 in c:\\users\\saisr\\anaconda3\\lib\\site-packages (from langsmith<0.2.0,>=0.1.0->langchain-core<0.2.0,>=0.1.27->langchain-openai) (3.9.15)\n",
      "Requirement already satisfied: charset-normalizer<4,>=2 in c:\\users\\saisr\\anaconda3\\lib\\site-packages (from requests<3,>=2->langchain-core<0.2.0,>=0.1.27->langchain-openai) (2.0.4)\n",
      "Requirement already satisfied: urllib3<3,>=1.21.1 in c:\\users\\saisr\\anaconda3\\lib\\site-packages (from requests<3,>=2->langchain-core<0.2.0,>=0.1.27->langchain-openai) (1.26.16)\n",
      "Requirement already satisfied: colorama in c:\\users\\saisr\\anaconda3\\lib\\site-packages (from tqdm>4->openai<2.0.0,>=1.10.0->langchain-openai) (0.4.6)\n"
     ]
    }
   ],
   "source": [
    "!pip install langchain\n",
    "!pip install langchain_experimental\n",
    "!pip install openai\n",
    "!pip install -U langchain-openai"
   ]
  },
  {
   "cell_type": "markdown",
   "metadata": {
    "deletable": false,
    "editable": false,
    "id": "b5NxH3t70dtJ",
    "run_control": {
     "frozen": true
    }
   },
   "source": [
    "### Task 1: Data Preparation: Importing Libraries, Setting up API Key, and Reading Data\n",
    "Before we start our analysis, let's ensure we have everything we need. First, we'll import the required libraries. Then, we'll set up our GPT-3.5 API key for access. Finally, we'll read the data from our CSV file and get everything ready.\n",
    "\n",
    "\n",
    "\n",
    "\n",
    "**To obtain an API key for OpenAI, follow these steps:**\n",
    "\n",
    "* Log in to your OpenAI account at OpenAI Login Page(https://platform.openai.com/login?launch).\n",
    "\n",
    "* Generate and retrieve your API key by visiting API Key Generation Page.(https://platform.openai.com/api-keys)\n",
    "\n",
    "\n",
    "\n",
    "Download the Playstore Datasets.(https://drive.google.com/drive/folders/1l_TabQZpTRypVKwVcHoD98YSAyXZOu91?usp=sharing)\n",
    "\n"
   ]
  },
  {
   "cell_type": "code",
   "execution_count": 2,
   "metadata": {
    "id": "f67SEm4qzpYv"
   },
   "outputs": [],
   "source": [
    "import os\n",
    "import pandas as pd\n",
    "from langchain_experimental.agents.agent_toolkits import create_pandas_dataframe_agent\n",
    "from langchain.llms import OpenAI\n",
    "\n",
    "#Setup the api key\n",
    "os.environ['OPENAI_API_KEY']=\"<>\"\n",
    "\n",
    "#Load the dataset (playstore_apps.csv) and assign it to a variable 'df'.\n",
    "df = pd.read_csv('playstore_apps.csv')\n"
   ]
  },
  {
   "cell_type": "markdown",
   "metadata": {
    "deletable": false,
    "editable": false,
    "id": "og3uUjNho8R7",
    "run_control": {
     "frozen": true
    }
   },
   "source": [
    "### Task 2: Display Top 5 Records.\n",
    "\n",
    "Great! Initializing our agent(OpenAI) is our next step. Once that's done, we'll create a prompt to display the first 5 records from our data table"
   ]
  },
  {
   "cell_type": "code",
   "execution_count": 3,
   "metadata": {
    "id": "pRgsw4gjmu1F"
   },
   "outputs": [
    {
     "name": "stderr",
     "output_type": "stream",
     "text": [
      "C:\\Users\\saisr\\anaconda3\\Lib\\site-packages\\langchain_core\\_api\\deprecation.py:117: LangChainDeprecationWarning: The class `langchain_community.llms.openai.OpenAI` was deprecated in langchain-community 0.0.10 and will be removed in 0.2.0. An updated version of the class exists in the langchain-openai package and should be used instead. To use it run `pip install -U langchain-openai` and import as `from langchain_openai import OpenAI`.\n",
      "  warn_deprecated(\n",
      "C:\\Users\\saisr\\anaconda3\\Lib\\site-packages\\langchain_core\\_api\\deprecation.py:117: LangChainDeprecationWarning: The function `__call__` was deprecated in LangChain 0.1.0 and will be removed in 0.2.0. Use invoke instead.\n",
      "  warn_deprecated(\n"
     ]
    },
    {
     "name": "stdout",
     "output_type": "stream",
     "text": [
      "\n",
      "\n",
      "\u001b[1m> Entering new AgentExecutor chain...\u001b[0m\n",
      "\u001b[32;1m\u001b[1;3mThought: I need to use the head() function to display the first 5 records\n",
      "Action: python_repl_ast\n",
      "Action Input: print(df.head())\u001b[0m\u001b[36;1m\u001b[1;3m                                                 App        Category  Rating  \\\n",
      "0     Photo Editor & Candy Camera & Grid & ScrapBook  ART_AND_DESIGN     4.1   \n",
      "1                                Coloring book moana  ART_AND_DESIGN     3.9   \n",
      "2  U Launcher Lite – FREE Live Cool Themes, Hide ...  ART_AND_DESIGN     4.7   \n",
      "3                              Sketch - Draw & Paint  ART_AND_DESIGN     4.5   \n",
      "4              Pixel Draw - Number Art Coloring Book  ART_AND_DESIGN     4.3   \n",
      "\n",
      "    Reviews  Size    Installs  Type  Price Content Rating  \\\n",
      "0     159.0   19M     10000.0  Free    0.0       Everyone   \n",
      "1     967.0   14M    500000.0  Free    0.0       Everyone   \n",
      "2   87510.0  8.7M   5000000.0  Free    0.0       Everyone   \n",
      "3  215644.0   25M  50000000.0  Free    0.0           Teen   \n",
      "4     967.0  2.8M    100000.0  Free    0.0       Everyone   \n",
      "\n",
      "                      Genres Last Updated         Current Ver   Android Ver  \n",
      "0               Art & Design   07-01-2018               1.0.0  4.0.3 and up  \n",
      "1  Art & Design;Pretend Play   15-01-2018               2.0.0  4.0.3 and up  \n",
      "2               Art & Design   01-08-2018               1.2.4  4.0.3 and up  \n",
      "3               Art & Design   08-06-2018  Varies with device    4.2 and up  \n",
      "4    Art & Design;Creativity   20-06-2018                 1.1    4.4 and up  \n",
      "\u001b[0m\u001b[32;1m\u001b[1;3mI now know the final answer\n",
      "Final Answer: The first 5 records from the dataframe df have been displayed.\u001b[0m\n",
      "\n",
      "\u001b[1m> Finished chain.\u001b[0m\n"
     ]
    },
    {
     "data": {
      "text/plain": [
       "{'input': 'Display the first 5 records from the dataframe df',\n",
       " 'output': 'The first 5 records from the dataframe df have been displayed.'}"
      ]
     },
     "execution_count": 3,
     "metadata": {},
     "output_type": "execute_result"
    }
   ],
   "source": [
    "# Initializing the agent\n",
    "agent = create_pandas_dataframe_agent(OpenAI(temperature=0),\n",
    "              df, verbose=True)\n",
    "\n",
    "# write your prompt using the agent\n",
    "agent(\"\"\"Display the first 5 records from the dataframe df\"\"\")"
   ]
  },
  {
   "cell_type": "markdown",
   "metadata": {
    "deletable": false,
    "editable": false,
    "id": "_WA0pK5n53dw",
    "run_control": {
     "frozen": true
    }
   },
   "source": [
    "### Task 3: Determine the Shape(Count Rows and Columns) of the Dataset.\n",
    "Great! For our next step, let's create a prompt to gather information about the shape of our playstore app dataset. This will help us understand how many rows and columns it contains."
   ]
  },
  {
   "cell_type": "code",
   "execution_count": 4,
   "metadata": {
    "id": "mPkA7zd953k_"
   },
   "outputs": [
    {
     "name": "stdout",
     "output_type": "stream",
     "text": [
      "\n",
      "\n",
      "\u001b[1m> Entering new AgentExecutor chain...\u001b[0m\n",
      "\u001b[32;1m\u001b[1;3mThought: I need to use the shape attribute to get the number of rows and columns\n",
      "Action: python_repl_ast\n",
      "Action Input: df.shape\u001b[0m\u001b[36;1m\u001b[1;3m(10841, 13)\u001b[0m\u001b[32;1m\u001b[1;3m10841 rows and 13 columns\n",
      "Final Answer: There are 10841 rows and 13 columns in the dataset.\u001b[0m\n",
      "\n",
      "\u001b[1m> Finished chain.\u001b[0m\n"
     ]
    },
    {
     "data": {
      "text/plain": [
       "{'input': 'Give me the total amount of rows and columns from the dataset',\n",
       " 'output': 'There are 10841 rows and 13 columns in the dataset.'}"
      ]
     },
     "execution_count": 4,
     "metadata": {},
     "output_type": "execute_result"
    }
   ],
   "source": [
    "# write your prompt using the agent\n",
    "agent(\"\"\"Give me the total amount of rows and columns from the dataset\"\"\")"
   ]
  },
  {
   "cell_type": "markdown",
   "metadata": {
    "deletable": false,
    "editable": false,
    "id": "6cbi52zG7E8U",
    "run_control": {
     "frozen": true
    }
   },
   "source": [
    "### Task 4: Finding the Missing data.\n",
    "Wow! We've successfully found out the shape of the dataset. Now, let's create a prompt to ask our agent to help us find details about any missing information in the data table"
   ]
  },
  {
   "cell_type": "code",
   "execution_count": 5,
   "metadata": {
    "id": "xaxUndfi7FFa"
   },
   "outputs": [
    {
     "name": "stdout",
     "output_type": "stream",
     "text": [
      "\n",
      "\n",
      "\u001b[1m> Entering new AgentExecutor chain...\u001b[0m\n",
      "\u001b[32;1m\u001b[1;3mThought: I need to use the isnull() function to check for null values and then use the sum() function to get the total number.\n",
      "Action: python_repl_ast\n",
      "Action Input: df.isnull().sum()\u001b[0m\u001b[36;1m\u001b[1;3mApp                  0\n",
      "Category             0\n",
      "Rating            1474\n",
      "Reviews              1\n",
      "Size                 0\n",
      "Installs             1\n",
      "Type                 1\n",
      "Price                1\n",
      "Content Rating       1\n",
      "Genres               0\n",
      "Last Updated         1\n",
      "Current Ver          8\n",
      "Android Ver          3\n",
      "dtype: int64\u001b[0m\u001b[32;1m\u001b[1;3m I now know the final answer\n",
      "Final Answer: The total number of null values in the dataset df is 1491.\u001b[0m\n",
      "\n",
      "\u001b[1m> Finished chain.\u001b[0m\n"
     ]
    },
    {
     "data": {
      "text/plain": [
       "{'input': 'GIve me the total number of null values from the dataset df',\n",
       " 'output': 'The total number of null values in the dataset df is 1491.'}"
      ]
     },
     "execution_count": 5,
     "metadata": {},
     "output_type": "execute_result"
    }
   ],
   "source": [
    "# write your prompt using the agent\n",
    "\n",
    "agent(\"\"\"GIve me the total number of null values from the dataset df\"\"\")"
   ]
  },
  {
   "cell_type": "markdown",
   "metadata": {
    "deletable": false,
    "editable": false,
    "id": "dd_5WaQH9C2u",
    "run_control": {
     "frozen": true
    }
   },
   "source": [
    "### Task 5: Identifying Duplicate Rows.\n",
    "Fantastic! We've successfully found the missing values. Now, let's create a prompt to ask our agent to count the number of duplicate rows in the playstore app dataset."
   ]
  },
  {
   "cell_type": "code",
   "execution_count": 6,
   "metadata": {
    "id": "3V9zZ_np9C8Z"
   },
   "outputs": [
    {
     "name": "stdout",
     "output_type": "stream",
     "text": [
      "\n",
      "\n",
      "\u001b[1m> Entering new AgentExecutor chain...\u001b[0m\n",
      "\u001b[32;1m\u001b[1;3mThought: I need to use the pandas function 'duplicated' to find the duplicate values and then use the 'value_counts' function to count them based on the column they are in.\n",
      "Action: python_repl_ast\n",
      "Action Input: df.duplicated()\u001b[0m\u001b[36;1m\u001b[1;3m0        False\n",
      "1        False\n",
      "2        False\n",
      "3        False\n",
      "4        False\n",
      "         ...  \n",
      "10836    False\n",
      "10837    False\n",
      "10838    False\n",
      "10839    False\n",
      "10840    False\n",
      "Length: 10841, dtype: bool\u001b[0m\u001b[32;1m\u001b[1;3m This shows that there are no duplicate values in the dataset.\n",
      "Action: python_repl_ast\n",
      "Action Input: df.duplicated().value_counts()\u001b[0m\u001b[36;1m\u001b[1;3mFalse    10358\n",
      "True       483\n",
      "Name: count, dtype: int64\u001b[0m\u001b[32;1m\u001b[1;3m This shows that there are 483 duplicate values in the dataset.\n",
      "Action: python_repl_ast\n",
      "Action Input: df.duplicated(subset=['App']).value_counts()\u001b[0m\u001b[36;1m\u001b[1;3mFalse    9660\n",
      "True     1181\n",
      "Name: count, dtype: int64\u001b[0m\u001b[32;1m\u001b[1;3m This shows that there are 1181 duplicate values in the 'App' column.\n",
      "Final Answer: There are 1181 duplicate values in the 'App' column of the dataset.\u001b[0m\n",
      "\n",
      "\u001b[1m> Finished chain.\u001b[0m\n"
     ]
    },
    {
     "data": {
      "text/plain": [
       "{'input': 'Give me the total the number of duplicate values from the datset and count it based on which column the duplicate values are in',\n",
       " 'output': \"There are 1181 duplicate values in the 'App' column of the dataset.\"}"
      ]
     },
     "execution_count": 6,
     "metadata": {},
     "output_type": "execute_result"
    }
   ],
   "source": [
    "# write your prompt using the agent\n",
    "agent(\"\"\"Give me the total the number of duplicate values from the datset and count it based on which column the duplicate values are in\"\"\")"
   ]
  },
  {
   "cell_type": "markdown",
   "metadata": {
    "deletable": false,
    "editable": false,
    "id": "xQolPJMY-xGr",
    "run_control": {
     "frozen": true
    }
   },
   "source": [
    "### Task 6: Dropping Unnecessary Columns.\n",
    "Fantastic! We successfully found the duplicates. Now, let's create a prompt to ask our agent to remove the Last Updated, Current Ver, Android Ver and Size columns from the playstore dataset."
   ]
  },
  {
   "cell_type": "code",
   "execution_count": 7,
   "metadata": {
    "id": "x226UO76-xNx"
   },
   "outputs": [
    {
     "name": "stdout",
     "output_type": "stream",
     "text": [
      "\n",
      "\n",
      "\u001b[1m> Entering new AgentExecutor chain...\u001b[0m\n",
      "\u001b[32;1m\u001b[1;3mThought: I need to use the drop function to remove columns from the dataframe\n",
      "Action: python_repl_ast\n",
      "Action Input: df.drop(columns=['Last Updated', 'Current Ver', 'Android Ver', 'Size'], inplace=True)\u001b[0m\u001b[36;1m\u001b[1;3m\u001b[0m\u001b[32;1m\u001b[1;3m I need to check if the columns were successfully removed\n",
      "Action: python_repl_ast\n",
      "Action Input: df.head()\u001b[0m\u001b[36;1m\u001b[1;3m                                                 App        Category  Rating  \\\n",
      "0     Photo Editor & Candy Camera & Grid & ScrapBook  ART_AND_DESIGN     4.1   \n",
      "1                                Coloring book moana  ART_AND_DESIGN     3.9   \n",
      "2  U Launcher Lite – FREE Live Cool Themes, Hide ...  ART_AND_DESIGN     4.7   \n",
      "3                              Sketch - Draw & Paint  ART_AND_DESIGN     4.5   \n",
      "4              Pixel Draw - Number Art Coloring Book  ART_AND_DESIGN     4.3   \n",
      "\n",
      "    Reviews    Installs  Type  Price Content Rating                     Genres  \n",
      "0     159.0     10000.0  Free    0.0       Everyone               Art & Design  \n",
      "1     967.0    500000.0  Free    0.0       Everyone  Art & Design;Pretend Play  \n",
      "2   87510.0   5000000.0  Free    0.0       Everyone               Art & Design  \n",
      "3  215644.0  50000000.0  Free    0.0           Teen               Art & Design  \n",
      "4     967.0    100000.0  Free    0.0       Everyone    Art & Design;Creativity  \u001b[0m\u001b[32;1m\u001b[1;3m I can see that the columns were successfully removed\n",
      "Final Answer: The updated dataframe with the removed columns is shown above.\u001b[0m\n",
      "\n",
      "\u001b[1m> Finished chain.\u001b[0m\n"
     ]
    },
    {
     "data": {
      "text/plain": [
       "{'input': 'Perform the following operation on the dataset:\\n1. Remove the Last Updated coloumn from the dataset\\n2. Remove the Current Ver coloumn from the dataset\\n3. Remove the Android Ver coloumn from the dataset\\n4. Remove the Size coloumn from the dataset\\nDo these operations and update the dataset',\n",
       " 'output': 'The updated dataframe with the removed columns is shown above.'}"
      ]
     },
     "execution_count": 7,
     "metadata": {},
     "output_type": "execute_result"
    }
   ],
   "source": [
    "# write your prompt using the agent\n",
    "agent(\"\"\"Perform the following operation on the dataset:\n",
    "1. Remove the Last Updated coloumn from the dataset\n",
    "2. Remove the Current Ver coloumn from the dataset\n",
    "3. Remove the Android Ver coloumn from the dataset\n",
    "4. Remove the Size coloumn from the dataset\n",
    "Do these operations and update the dataset\"\"\")"
   ]
  },
  {
   "cell_type": "markdown",
   "metadata": {
    "deletable": false,
    "editable": false,
    "id": "AeX7d4aTCZo4",
    "run_control": {
     "frozen": true
    }
   },
   "source": [
    "### Task 7: Removing Duplicate Rows.\n",
    "Great progress! We were successful in dropped the columns. Now, let's create a prompt to ask our agent to remove duplicate rows from the playstore dataset."
   ]
  },
  {
   "cell_type": "code",
   "execution_count": 8,
   "metadata": {
    "id": "0TJ221DmCZ1W"
   },
   "outputs": [
    {
     "name": "stdout",
     "output_type": "stream",
     "text": [
      "\n",
      "\n",
      "\u001b[1m> Entering new AgentExecutor chain...\u001b[0m\n",
      "\u001b[32;1m\u001b[1;3mThought: I need to use the drop_duplicates() function to remove duplicate values from the dataframe.\n",
      "Action: python_repl_ast\n",
      "Action Input: df.drop_duplicates(keep='first', inplace=True)\u001b[0m\u001b[36;1m\u001b[1;3m\u001b[0m\u001b[32;1m\u001b[1;3m I now know the final answer\n",
      "Final Answer: The duplicate values have been removed from the dataframe df, keeping the first instance of the duplicated value.\u001b[0m\n",
      "\n",
      "\u001b[1m> Finished chain.\u001b[0m\n"
     ]
    },
    {
     "data": {
      "text/plain": [
       "{'input': 'Perform the following operations on the dataset df\\n1. Remove all the duplicate values from the dataset keeping the first instance of the duplicated value\\nEnsure the dataset df is updated accordingly',\n",
       " 'output': 'The duplicate values have been removed from the dataframe df, keeping the first instance of the duplicated value.'}"
      ]
     },
     "execution_count": 8,
     "metadata": {},
     "output_type": "execute_result"
    }
   ],
   "source": [
    "# write your prompt using the agent\n",
    "agent(\"\"\"Perform the following operations on the dataset df\n",
    "1. Remove all the duplicate values from the dataset keeping the first instance of the duplicated value\n",
    "Ensure the dataset df is updated accordingly\"\"\")"
   ]
  },
  {
   "cell_type": "code",
   "execution_count": 9,
   "metadata": {},
   "outputs": [
    {
     "data": {
      "text/html": [
       "<div>\n",
       "<style scoped>\n",
       "    .dataframe tbody tr th:only-of-type {\n",
       "        vertical-align: middle;\n",
       "    }\n",
       "\n",
       "    .dataframe tbody tr th {\n",
       "        vertical-align: top;\n",
       "    }\n",
       "\n",
       "    .dataframe thead th {\n",
       "        text-align: right;\n",
       "    }\n",
       "</style>\n",
       "<table border=\"1\" class=\"dataframe\">\n",
       "  <thead>\n",
       "    <tr style=\"text-align: right;\">\n",
       "      <th></th>\n",
       "      <th>App</th>\n",
       "      <th>Category</th>\n",
       "      <th>Rating</th>\n",
       "      <th>Reviews</th>\n",
       "      <th>Installs</th>\n",
       "      <th>Type</th>\n",
       "      <th>Price</th>\n",
       "      <th>Content Rating</th>\n",
       "      <th>Genres</th>\n",
       "    </tr>\n",
       "  </thead>\n",
       "  <tbody>\n",
       "    <tr>\n",
       "      <th>0</th>\n",
       "      <td>Photo Editor &amp; Candy Camera &amp; Grid &amp; ScrapBook</td>\n",
       "      <td>ART_AND_DESIGN</td>\n",
       "      <td>4.1</td>\n",
       "      <td>159.0</td>\n",
       "      <td>10000.0</td>\n",
       "      <td>Free</td>\n",
       "      <td>0.0</td>\n",
       "      <td>Everyone</td>\n",
       "      <td>Art &amp; Design</td>\n",
       "    </tr>\n",
       "    <tr>\n",
       "      <th>1</th>\n",
       "      <td>Coloring book moana</td>\n",
       "      <td>ART_AND_DESIGN</td>\n",
       "      <td>3.9</td>\n",
       "      <td>967.0</td>\n",
       "      <td>500000.0</td>\n",
       "      <td>Free</td>\n",
       "      <td>0.0</td>\n",
       "      <td>Everyone</td>\n",
       "      <td>Art &amp; Design;Pretend Play</td>\n",
       "    </tr>\n",
       "    <tr>\n",
       "      <th>2</th>\n",
       "      <td>U Launcher Lite – FREE Live Cool Themes, Hide ...</td>\n",
       "      <td>ART_AND_DESIGN</td>\n",
       "      <td>4.7</td>\n",
       "      <td>87510.0</td>\n",
       "      <td>5000000.0</td>\n",
       "      <td>Free</td>\n",
       "      <td>0.0</td>\n",
       "      <td>Everyone</td>\n",
       "      <td>Art &amp; Design</td>\n",
       "    </tr>\n",
       "    <tr>\n",
       "      <th>3</th>\n",
       "      <td>Sketch - Draw &amp; Paint</td>\n",
       "      <td>ART_AND_DESIGN</td>\n",
       "      <td>4.5</td>\n",
       "      <td>215644.0</td>\n",
       "      <td>50000000.0</td>\n",
       "      <td>Free</td>\n",
       "      <td>0.0</td>\n",
       "      <td>Teen</td>\n",
       "      <td>Art &amp; Design</td>\n",
       "    </tr>\n",
       "    <tr>\n",
       "      <th>4</th>\n",
       "      <td>Pixel Draw - Number Art Coloring Book</td>\n",
       "      <td>ART_AND_DESIGN</td>\n",
       "      <td>4.3</td>\n",
       "      <td>967.0</td>\n",
       "      <td>100000.0</td>\n",
       "      <td>Free</td>\n",
       "      <td>0.0</td>\n",
       "      <td>Everyone</td>\n",
       "      <td>Art &amp; Design;Creativity</td>\n",
       "    </tr>\n",
       "    <tr>\n",
       "      <th>...</th>\n",
       "      <td>...</td>\n",
       "      <td>...</td>\n",
       "      <td>...</td>\n",
       "      <td>...</td>\n",
       "      <td>...</td>\n",
       "      <td>...</td>\n",
       "      <td>...</td>\n",
       "      <td>...</td>\n",
       "      <td>...</td>\n",
       "    </tr>\n",
       "    <tr>\n",
       "      <th>10836</th>\n",
       "      <td>Sya9a Maroc - FR</td>\n",
       "      <td>FAMILY</td>\n",
       "      <td>4.5</td>\n",
       "      <td>38.0</td>\n",
       "      <td>5000.0</td>\n",
       "      <td>Free</td>\n",
       "      <td>0.0</td>\n",
       "      <td>Everyone</td>\n",
       "      <td>Education</td>\n",
       "    </tr>\n",
       "    <tr>\n",
       "      <th>10837</th>\n",
       "      <td>Fr. Mike Schmitz Audio Teachings</td>\n",
       "      <td>FAMILY</td>\n",
       "      <td>5.0</td>\n",
       "      <td>4.0</td>\n",
       "      <td>100.0</td>\n",
       "      <td>Free</td>\n",
       "      <td>0.0</td>\n",
       "      <td>Everyone</td>\n",
       "      <td>Education</td>\n",
       "    </tr>\n",
       "    <tr>\n",
       "      <th>10838</th>\n",
       "      <td>Parkinson Exercices FR</td>\n",
       "      <td>MEDICAL</td>\n",
       "      <td>NaN</td>\n",
       "      <td>3.0</td>\n",
       "      <td>1000.0</td>\n",
       "      <td>Free</td>\n",
       "      <td>0.0</td>\n",
       "      <td>Everyone</td>\n",
       "      <td>Medical</td>\n",
       "    </tr>\n",
       "    <tr>\n",
       "      <th>10839</th>\n",
       "      <td>The SCP Foundation DB fr nn5n</td>\n",
       "      <td>BOOKS_AND_REFERENCE</td>\n",
       "      <td>4.5</td>\n",
       "      <td>114.0</td>\n",
       "      <td>1000.0</td>\n",
       "      <td>Free</td>\n",
       "      <td>0.0</td>\n",
       "      <td>Mature 17+</td>\n",
       "      <td>Books &amp; Reference</td>\n",
       "    </tr>\n",
       "    <tr>\n",
       "      <th>10840</th>\n",
       "      <td>iHoroscope - 2018 Daily Horoscope &amp; Astrology</td>\n",
       "      <td>LIFESTYLE</td>\n",
       "      <td>4.5</td>\n",
       "      <td>398307.0</td>\n",
       "      <td>10000000.0</td>\n",
       "      <td>Free</td>\n",
       "      <td>0.0</td>\n",
       "      <td>Everyone</td>\n",
       "      <td>Lifestyle</td>\n",
       "    </tr>\n",
       "  </tbody>\n",
       "</table>\n",
       "<p>10356 rows × 9 columns</p>\n",
       "</div>"
      ],
      "text/plain": [
       "                                                     App             Category  \\\n",
       "0         Photo Editor & Candy Camera & Grid & ScrapBook       ART_AND_DESIGN   \n",
       "1                                    Coloring book moana       ART_AND_DESIGN   \n",
       "2      U Launcher Lite – FREE Live Cool Themes, Hide ...       ART_AND_DESIGN   \n",
       "3                                  Sketch - Draw & Paint       ART_AND_DESIGN   \n",
       "4                  Pixel Draw - Number Art Coloring Book       ART_AND_DESIGN   \n",
       "...                                                  ...                  ...   \n",
       "10836                                   Sya9a Maroc - FR               FAMILY   \n",
       "10837                   Fr. Mike Schmitz Audio Teachings               FAMILY   \n",
       "10838                             Parkinson Exercices FR              MEDICAL   \n",
       "10839                      The SCP Foundation DB fr nn5n  BOOKS_AND_REFERENCE   \n",
       "10840      iHoroscope - 2018 Daily Horoscope & Astrology            LIFESTYLE   \n",
       "\n",
       "       Rating   Reviews    Installs  Type  Price Content Rating  \\\n",
       "0         4.1     159.0     10000.0  Free    0.0       Everyone   \n",
       "1         3.9     967.0    500000.0  Free    0.0       Everyone   \n",
       "2         4.7   87510.0   5000000.0  Free    0.0       Everyone   \n",
       "3         4.5  215644.0  50000000.0  Free    0.0           Teen   \n",
       "4         4.3     967.0    100000.0  Free    0.0       Everyone   \n",
       "...       ...       ...         ...   ...    ...            ...   \n",
       "10836     4.5      38.0      5000.0  Free    0.0       Everyone   \n",
       "10837     5.0       4.0       100.0  Free    0.0       Everyone   \n",
       "10838     NaN       3.0      1000.0  Free    0.0       Everyone   \n",
       "10839     4.5     114.0      1000.0  Free    0.0     Mature 17+   \n",
       "10840     4.5  398307.0  10000000.0  Free    0.0       Everyone   \n",
       "\n",
       "                          Genres  \n",
       "0                   Art & Design  \n",
       "1      Art & Design;Pretend Play  \n",
       "2                   Art & Design  \n",
       "3                   Art & Design  \n",
       "4        Art & Design;Creativity  \n",
       "...                          ...  \n",
       "10836                  Education  \n",
       "10837                  Education  \n",
       "10838                    Medical  \n",
       "10839          Books & Reference  \n",
       "10840                  Lifestyle  \n",
       "\n",
       "[10356 rows x 9 columns]"
      ]
     },
     "execution_count": 9,
     "metadata": {},
     "output_type": "execute_result"
    }
   ],
   "source": [
    "df"
   ]
  },
  {
   "cell_type": "markdown",
   "metadata": {
    "deletable": false,
    "editable": false,
    "id": "iPeHjk0m_tlX",
    "run_control": {
     "frozen": true
    }
   },
   "source": [
    "### Task 8: Filling missing values in the DataFrame.\n",
    "Good job! The duplicated rows have been successfully dropped. Let's now build a prompt to request that our agent to fill missing values in the Rating, Reviews, Price and Installs columns with the mean. Fill missing values in the Type column with the string 'Free'. Finally, fill missing values in the Content Rating column with the string 'Everyone'."
   ]
  },
  {
   "cell_type": "code",
   "execution_count": 10,
   "metadata": {
    "id": "h-LKAq-O_tsI"
   },
   "outputs": [
    {
     "name": "stdout",
     "output_type": "stream",
     "text": [
      "\n",
      "\n",
      "\u001b[1m> Entering new AgentExecutor chain...\u001b[0m\n",
      "\u001b[32;1m\u001b[1;3mThought: I need to use the mean function to find the mean value of each column and then use the fillna function to fill in the missing values.\n",
      "Action: python_repl_ast\n",
      "Action Input: round(df['Rating'].mean(), 1)\u001b[0m\u001b[36;1m\u001b[1;3m4.2\u001b[0m\u001b[32;1m\u001b[1;3m4.2 is the mean value of the 'Rating' column, now I need to use the fillna function to fill in the missing values with this value.\n",
      "Action: python_repl_ast\n",
      "Action Input: df['Rating'].fillna(4.2, inplace=True)\u001b[0m\u001b[36;1m\u001b[1;3m\u001b[0m\u001b[32;1m\u001b[1;3m4.2 is now the value for all missing values in the 'Rating' column. I need to repeat this process for the other columns.\n",
      "Action: python_repl_ast\n",
      "Action Input: round(df['Reviews'].mean(), 1)\u001b[0m\u001b[36;1m\u001b[1;3m405963.4\u001b[0m\u001b[32;1m\u001b[1;3m405963.4 is the mean value of the 'Reviews' column, now I need to use the fillna function to fill in the missing values with this value.\n",
      "Action: python_repl_ast\n",
      "Action Input: df['Reviews'].fillna(405963.4, inplace=True)\u001b[0m\u001b[36;1m\u001b[1;3m\u001b[0m\u001b[32;1m\u001b[1;3m405963.4 is now the value for all missing values in the 'Reviews' column. I need to repeat this process for the other columns.\n",
      "Action: python_repl_ast\n",
      "Action Input: round(df['Price'].mean(), 1)\u001b[0m\u001b[36;1m\u001b[1;3m1.0\u001b[0m\u001b[32;1m\u001b[1;3m1.0 is the mean value of the 'Price' column, now I need to use the fillna function to fill in the missing values with this value.\n",
      "Action: python_repl_ast\n",
      "Action Input: df['Price'].fillna(1.0, inplace=True)\u001b[0m\u001b[36;1m\u001b[1;3m\u001b[0m\u001b[32;1m\u001b[1;3m1.0 is now the value for all missing values in the 'Price' column. I need to repeat this process for the other columns.\n",
      "Action: python_repl_ast\n",
      "Action Input: round(df['Installs'].mean(), 1)\u001b[0m\u001b[36;1m\u001b[1;3m14158562.5\u001b[0m\u001b[32;1m\u001b[1;3m14158562.5 is the mean value of the 'Installs' column, now I need to use the fillna function to fill in the missing values with this value.\n",
      "Action: python_repl_ast\n",
      "Action Input: df['Installs'].fillna(14158562.5, inplace=True)\u001b[0m\u001b[36;1m\u001b[1;3m\u001b[0m\u001b[32;1m\u001b[1;3m14158562.5 is now the value for all missing values in the 'Installs' column. I need to fill in the missing values in the 'Type' and 'Content Rating' columns with the strings 'Free' and 'Everyone' respectively.\n",
      "Action: python_repl_ast\n",
      "Action Input: df['Type'].fillna('Free', inplace=True)\u001b[0m\u001b[36;1m\u001b[1;3m\u001b[0m\u001b[32;1m\u001b[1;3m 'Free' is now the value for all missing values in the 'Type' column. I need to repeat this process for the 'Content Rating' column.\n",
      "Action: python_repl_ast\n",
      "Action Input: df['Content Rating'].fillna('Everyone', inplace=True)\u001b[0m\u001b[36;1m\u001b[1;3m\u001b[0m\u001b[32;1m\u001b[1;3m 'Everyone' is now the value for all missing values in the 'Content Rating' column. I have now updated the dataframe accordingly.\n",
      "Final Answer: The updated dataframe is df.\u001b[0m\n",
      "\n",
      "\u001b[1m> Finished chain.\u001b[0m\n"
     ]
    },
    {
     "data": {
      "text/plain": [
       "{'input': \"Perform the following operations on the dataset df:\\n1. Find the mean value of the 'Rating' Column but keep the value to only 1 decimal place and fill the missing values in the 'Rating' column with the attained mean value\\n2. Find the mean value of the 'Reviews' Column but keep the value to only 1 decimal place and fill the missing values in the 'Review' column with the attained mean value\\n3. Find the mean value of the Price Column but keep the value to only 1 decimal place and fill the missing values in the 'Price' column with the attained mean value\\n4. Find the mean value of the 'Installs' Column but keep the value to only 1 decimal place and fill the missing values in the 'Installs' column with the attained mean value\\n5. Fill the missing values in the 'Type' column with the string 'Free'\\n6. Fill the missing values in the 'Content Rating' column with the string 'Everyone'\\nUpdate the dataframe df accordingly and give me the output\",\n",
       " 'output': 'The updated dataframe is df.'}"
      ]
     },
     "execution_count": 10,
     "metadata": {},
     "output_type": "execute_result"
    }
   ],
   "source": [
    "# write your prompt using the agent\n",
    "agent(\"\"\"Perform the following operations on the dataset df:\n",
    "1. Find the mean value of the 'Rating' Column but keep the value to only 1 decimal place and fill the missing values in the 'Rating' column with the attained mean value\n",
    "2. Find the mean value of the 'Reviews' Column but keep the value to only 1 decimal place and fill the missing values in the 'Review' column with the attained mean value\n",
    "3. Find the mean value of the Price Column but keep the value to only 1 decimal place and fill the missing values in the 'Price' column with the attained mean value\n",
    "4. Find the mean value of the 'Installs' Column but keep the value to only 1 decimal place and fill the missing values in the 'Installs' column with the attained mean value\n",
    "5. Fill the missing values in the 'Type' column with the string 'Free'\n",
    "6. Fill the missing values in the 'Content Rating' column with the string 'Everyone'\n",
    "Update the dataframe df accordingly and give me the output\"\"\")"
   ]
  },
  {
   "cell_type": "markdown",
   "metadata": {
    "deletable": false,
    "editable": false,
    "id": "pBhlarQOBD8x",
    "run_control": {
     "frozen": true
    }
   },
   "source": [
    "### Task 9: Eliminating Data Anomalies.\n",
    "\n",
    "Wow! We've successfully filled the missing values. Now, let's develop a prompt to tell our agent to remove the rows with Category equal to '1.9' from the DataFrame."
   ]
  },
  {
   "cell_type": "code",
   "execution_count": 11,
   "metadata": {
    "id": "eXWTThgqBEEx"
   },
   "outputs": [
    {
     "name": "stdout",
     "output_type": "stream",
     "text": [
      "\n",
      "\n",
      "\u001b[1m> Entering new AgentExecutor chain...\u001b[0m\n",
      "\u001b[32;1m\u001b[1;3mThought: I need to use the pandas library to manipulate the dataframe\n",
      "Action: python_repl_ast\n",
      "Action Input: import pandas as pd\u001b[0m\u001b[36;1m\u001b[1;3m\u001b[0m\u001b[32;1m\u001b[1;3mI need to use the .drop() function to remove rows\n",
      "Action: python_repl_ast\n",
      "Action Input: df.drop(df[df['Category'] == '1.9'].index, inplace=True)\u001b[0m\u001b[36;1m\u001b[1;3m\u001b[0m\u001b[32;1m\u001b[1;3mI need to update the dataframe with the new changes\n",
      "Action: python_repl_ast\n",
      "Action Input: df\u001b[0m\u001b[36;1m\u001b[1;3m                                                     App             Category  \\\n",
      "0         Photo Editor & Candy Camera & Grid & ScrapBook       ART_AND_DESIGN   \n",
      "1                                    Coloring book moana       ART_AND_DESIGN   \n",
      "2      U Launcher Lite – FREE Live Cool Themes, Hide ...       ART_AND_DESIGN   \n",
      "3                                  Sketch - Draw & Paint       ART_AND_DESIGN   \n",
      "4                  Pixel Draw - Number Art Coloring Book       ART_AND_DESIGN   \n",
      "...                                                  ...                  ...   \n",
      "10836                                   Sya9a Maroc - FR               FAMILY   \n",
      "10837                   Fr. Mike Schmitz Audio Teachings               FAMILY   \n",
      "10838                             Parkinson Exercices FR              MEDICAL   \n",
      "10839                      The SCP Foundation DB fr nn5n  BOOKS_AND_REFERENCE   \n",
      "10840      iHoroscope - 2018 Daily Horoscope & Astrology            LIFESTYLE   \n",
      "\n",
      "       Rating   Reviews    Installs  Type  Price Content Rating  \\\n",
      "0         4.1     159.0     10000.0  Free    0.0       Everyone   \n",
      "1         3.9     967.0    500000.0  Free    0.0       Everyone   \n",
      "2         4.7   87510.0   5000000.0  Free    0.0       Everyone   \n",
      "3         4.5  215644.0  50000000.0  Free    0.0           Teen   \n",
      "4         4.3     967.0    100000.0  Free    0.0       Everyone   \n",
      "...       ...       ...         ...   ...    ...            ...   \n",
      "10836     4.5      38.0      5000.0  Free    0.0       Everyone   \n",
      "10837     5.0       4.0       100.0  Free    0.0       Everyone   \n",
      "10838     4.2       3.0      1000.0  Free    0.0       Everyone   \n",
      "10839     4.5     114.0      1000.0  Free    0.0     Mature 17+   \n",
      "10840     4.5  398307.0  10000000.0  Free    0.0       Everyone   \n",
      "\n",
      "                          Genres  \n",
      "0                   Art & Design  \n",
      "1      Art & Design;Pretend Play  \n",
      "2                   Art & Design  \n",
      "3                   Art & Design  \n",
      "4        Art & Design;Creativity  \n",
      "...                          ...  \n",
      "10836                  Education  \n",
      "10837                  Education  \n",
      "10838                    Medical  \n",
      "10839          Books & Reference  \n",
      "10840                  Lifestyle  \n",
      "\n",
      "[10355 rows x 9 columns]\u001b[0m\u001b[32;1m\u001b[1;3m I now know the final answer\n",
      "Final Answer: The updated dataframe with the rows where the Category column has the value '1.9' removed.\u001b[0m\n",
      "\n",
      "\u001b[1m> Finished chain.\u001b[0m\n"
     ]
    },
    {
     "data": {
      "text/plain": [
       "{'input': \"Perform the following operations on the dataset:\\nRemove the rows from the dataset where the Category column has the value '1.9'\\nUpdate the dataframe df and give me the output\",\n",
       " 'output': \"The updated dataframe with the rows where the Category column has the value '1.9' removed.\"}"
      ]
     },
     "execution_count": 11,
     "metadata": {},
     "output_type": "execute_result"
    }
   ],
   "source": [
    "# write your prompt using the agent\n",
    "\n",
    "agent(\"\"\"Perform the following operations on the dataset:\n",
    "Remove the rows from the dataset where the Category column has the value '1.9'\n",
    "Update the dataframe df and give me the output\"\"\")"
   ]
  },
  {
   "cell_type": "markdown",
   "metadata": {
    "deletable": false,
    "editable": false,
    "id": "SSrn5uwWDcH-",
    "run_control": {
     "frozen": true
    }
   },
   "source": [
    "### Task 10: Check App Distribution.\n",
    "\n",
    "Fantastic! We've successfully removed the anamolies. Now, let's construct a prompt that tells our agent to count occurrences of each unique value in the Type column."
   ]
  },
  {
   "cell_type": "code",
   "execution_count": 12,
   "metadata": {
    "id": "nyVdUdYzDcO6"
   },
   "outputs": [
    {
     "name": "stdout",
     "output_type": "stream",
     "text": [
      "\n",
      "\n",
      "\u001b[1m> Entering new AgentExecutor chain...\u001b[0m\n",
      "\u001b[32;1m\u001b[1;3mThought: I need to use the value_counts() function to count the number of occurences for each unique value in the 'Type' column.\n",
      "Action: python_repl_ast\n",
      "Action Input: df['Type'].value_counts()\u001b[0m\u001b[36;1m\u001b[1;3mType\n",
      "Free    9590\n",
      "Paid     765\n",
      "Name: count, dtype: int64\u001b[0m\u001b[32;1m\u001b[1;3m Now I need to sum the values in the 'count' column to get the total number of occurences.\n",
      "Action: python_repl_ast\n",
      "Action Input: df['Type'].value_counts().sum()\u001b[0m\u001b[36;1m\u001b[1;3m10355\u001b[0m\u001b[32;1m\u001b[1;3m I now know the final answer\n",
      "Final Answer: 10355\u001b[0m\n",
      "\n",
      "\u001b[1m> Finished chain.\u001b[0m\n"
     ]
    },
    {
     "data": {
      "text/plain": [
       "{'input': \"Count the number of occurences in the dataframe where the 'Type' column has a unique value\",\n",
       " 'output': '10355'}"
      ]
     },
     "execution_count": 12,
     "metadata": {},
     "output_type": "execute_result"
    }
   ],
   "source": [
    "# write your prompt using the agent\n",
    "\n",
    "agent(\"\"\"Count the number of occurences in the dataframe where the 'Type' column has a unique value\"\"\")"
   ]
  },
  {
   "cell_type": "markdown",
   "metadata": {
    "deletable": false,
    "editable": false,
    "id": "P3-O18xiECEC",
    "run_control": {
     "frozen": true
    }
   },
   "source": [
    "### Task 11:  Cleaning App Name.\n",
    "Amazing Let's now develop a prompt to advise our helper to update the 'df' DataFrame by identifying rows where App column starts with '?'. And remove those rows in the dataframe."
   ]
  },
  {
   "cell_type": "code",
   "execution_count": 13,
   "metadata": {
    "id": "Jsl9zz1cECLh"
   },
   "outputs": [
    {
     "name": "stdout",
     "output_type": "stream",
     "text": [
      "\n",
      "\n",
      "\u001b[1m> Entering new AgentExecutor chain...\u001b[0m\n",
      "\u001b[32;1m\u001b[1;3mThought: I need to use the pandas dataframe method 'drop' to remove rows based on a condition.\n",
      "Action: python_repl_ast\n",
      "Action Input: df.drop(df[df['App'].str.startswith('?')].index, inplace=True)\u001b[0m\u001b[36;1m\u001b[1;3m\u001b[0m\u001b[32;1m\u001b[1;3mI now know the final answer\n",
      "Final Answer: The updated dataframe with the rows removed where the values in the 'App' column start with '?' is now stored in the variable 'df'.\u001b[0m\n",
      "\n",
      "\u001b[1m> Finished chain.\u001b[0m\n"
     ]
    },
    {
     "data": {
      "text/plain": [
       "{'input': \"Perfrom the following operations on the dataset:\\n1. Remove the rows in the dataframe where the values in the 'App' column start with '?'\\nUpdate the df accordingly\",\n",
       " 'output': \"The updated dataframe with the rows removed where the values in the 'App' column start with '?' is now stored in the variable 'df'.\"}"
      ]
     },
     "execution_count": 13,
     "metadata": {},
     "output_type": "execute_result"
    }
   ],
   "source": [
    "# write your prompt using the agent\n",
    "\n",
    "agent(\"\"\"Perfrom the following operations on the dataset:\n",
    "1. Remove the rows in the dataframe where the values in the 'App' column start with '?'\n",
    "Update the df accordingly\"\"\")"
   ]
  },
  {
   "cell_type": "code",
   "execution_count": 14,
   "metadata": {
    "id": "K3E53juJStxk"
   },
   "outputs": [],
   "source": [
    "# export the cleaned dataframe 'df' with the name 'cleaned_apps_db.csv' using the parameter index=True.\n",
    "df.to_csv('cleaned_apps_db.csv')"
   ]
  },
  {
   "cell_type": "markdown",
   "metadata": {
    "deletable": false,
    "editable": false,
    "id": "HEhuBs0xFOEZ",
    "run_control": {
     "frozen": true
    }
   },
   "source": [
    "### Task 12: Display Top 5 Records for playstore_reviews.\n",
    "\n",
    "Great! Initializing our another agent(OpenAI) is our next step. Once that's done, we'll create a prompt to display the first 5 records from our playstore_reviews table."
   ]
  },
  {
   "cell_type": "code",
   "execution_count": 17,
   "metadata": {
    "id": "57sg-9KSMMCZ"
   },
   "outputs": [
    {
     "name": "stdout",
     "output_type": "stream",
     "text": [
      "\n",
      "\n",
      "\u001b[1m> Entering new AgentExecutor chain...\u001b[0m\n",
      "\u001b[32;1m\u001b[1;3mThought: I need to use the head() function to display the first 5 records\n",
      "Action: python_repl_ast\n",
      "Action Input: print(df1.head())\u001b[0m\u001b[36;1m\u001b[1;3mNameError: name 'df1' is not defined\u001b[0m\u001b[32;1m\u001b[1;3mI need to use the correct name of the dataframe, which is df\n",
      "Action: python_repl_ast\n",
      "Action Input: print(df.head())\u001b[0m\u001b[36;1m\u001b[1;3m                     App                                  Translated_Review  \\\n",
      "0  10 Best Foods for You  I like eat delicious food. That's I'm cooking ...   \n",
      "1  10 Best Foods for You    This help eating healthy exercise regular basis   \n",
      "2  10 Best Foods for You                                                NaN   \n",
      "3  10 Best Foods for You         Works great especially going grocery store   \n",
      "4  10 Best Foods for You                                       Best idea us   \n",
      "\n",
      "  Sentiment  Sentiment_Polarity  Sentiment_Subjectivity  \n",
      "0  Positive                1.00                0.533333  \n",
      "1  Positive                0.25                0.288462  \n",
      "2       NaN                 NaN                     NaN  \n",
      "3  Positive                0.40                0.875000  \n",
      "4  Positive                1.00                0.300000  \n",
      "\u001b[0m\u001b[32;1m\u001b[1;3mI now know the final answer\n",
      "Final Answer: The first 5 records from the dataframe df are displayed above.\u001b[0m\n",
      "\n",
      "\u001b[1m> Finished chain.\u001b[0m\n"
     ]
    },
    {
     "data": {
      "text/plain": [
       "{'input': 'Display the first 5 records from the dataframe df1',\n",
       " 'output': 'The first 5 records from the dataframe df are displayed above.'}"
      ]
     },
     "execution_count": 17,
     "metadata": {},
     "output_type": "execute_result"
    }
   ],
   "source": [
    "#Load the dataset (playstore_reviews.csv) and assign it to a variable 'df1'.\n",
    "df1 = pd.read_csv('playstore_reviews.csv')\n",
    "\n",
    "# Initializing the agent1.\n",
    "agent1 = create_pandas_dataframe_agent(OpenAI(temperature=0),\n",
    "              df1, verbose=True)\n",
    "\n",
    "# write your prompt using the agent1\n",
    "\n",
    "agent1(\"\"\"Display the first 5 records from the dataframe df1\"\"\")"
   ]
  },
  {
   "cell_type": "markdown",
   "metadata": {
    "deletable": false,
    "editable": false,
    "id": "AnwaMWStGQ4U",
    "run_control": {
     "frozen": true
    }
   },
   "source": [
    "### Task 13: Determine the Shape(Count Rows and Columns) of the Dataset.\n",
    "Great! For our next step, let's create a prompt to gather information about the shape of our playstore_reviews dataset. This will help us understand how many rows and columns it contains."
   ]
  },
  {
   "cell_type": "code",
   "execution_count": 18,
   "metadata": {
    "id": "I2UPdWJSGRBD"
   },
   "outputs": [
    {
     "name": "stdout",
     "output_type": "stream",
     "text": [
      "\n",
      "\n",
      "\u001b[1m> Entering new AgentExecutor chain...\u001b[0m\n",
      "\u001b[32;1m\u001b[1;3mThought: I need to use the shape attribute of the dataframe to get the number of rows and columns\n",
      "Action: python_repl_ast\n",
      "Action Input: df.shape\u001b[0m\u001b[36;1m\u001b[1;3m(64295, 5)\u001b[0m\u001b[32;1m\u001b[1;3m64295 rows and 5 columns\n",
      "Final Answer: There are 64295 rows and 5 columns in the dataset.\u001b[0m\n",
      "\n",
      "\u001b[1m> Finished chain.\u001b[0m\n"
     ]
    },
    {
     "data": {
      "text/plain": [
       "{'input': 'Give me the totla amount of rows and columns in the dataset',\n",
       " 'output': 'There are 64295 rows and 5 columns in the dataset.'}"
      ]
     },
     "execution_count": 18,
     "metadata": {},
     "output_type": "execute_result"
    }
   ],
   "source": [
    "# write your prompt using the agent1\n",
    "\n",
    "agent1(\"\"\"Give me the totla amount of rows and columns in the dataset\"\"\")"
   ]
  },
  {
   "cell_type": "markdown",
   "metadata": {
    "id": "uFwwdQvdRvVV"
   },
   "source": [
    "### Task 14: Finding the Missing data.\n",
    "Wow! We've successfully found out the shape of the dataset. Now, let's create a prompt to ask our agent to help us find details about any missing information in the playstore_reviews table."
   ]
  },
  {
   "cell_type": "code",
   "execution_count": 19,
   "metadata": {
    "id": "0YvztIr1Rv3O"
   },
   "outputs": [
    {
     "name": "stdout",
     "output_type": "stream",
     "text": [
      "\n",
      "\n",
      "\u001b[1m> Entering new AgentExecutor chain...\u001b[0m\n",
      "\u001b[32;1m\u001b[1;3mThought: I need to use the isnull() function to check for missing values and then use the sum() function to count them.\n",
      "Action: python_repl_ast\n",
      "Action Input: df.isnull().sum()\u001b[0m\u001b[36;1m\u001b[1;3mApp                           0\n",
      "Translated_Review         26868\n",
      "Sentiment                 26863\n",
      "Sentiment_Polarity        26863\n",
      "Sentiment_Subjectivity    26863\n",
      "dtype: int64\u001b[0m\u001b[32;1m\u001b[1;3m I now know the final answer\n",
      "Final Answer: There are 26868 missing values in the dataset.\u001b[0m\n",
      "\n",
      "\u001b[1m> Finished chain.\u001b[0m\n"
     ]
    },
    {
     "data": {
      "text/plain": [
       "{'input': 'Count the amount of missing values in the dataset and give me the count',\n",
       " 'output': 'There are 26868 missing values in the dataset.'}"
      ]
     },
     "execution_count": 19,
     "metadata": {},
     "output_type": "execute_result"
    }
   ],
   "source": [
    "# write your prompt using the agent1\n",
    "\n",
    "agent1(\"\"\"Count the amount of missing values in the dataset and give me the count\"\"\")"
   ]
  },
  {
   "cell_type": "markdown",
   "metadata": {
    "id": "zEWdvCUZRwAB"
   },
   "source": [
    "### Task 15: Identifying Duplicate Rows.\n",
    "Fantastic! We've successfully found the missing values. Now, let's create a prompt to ask our agent to count the number of duplicate rows in the playstore_reviews dataset."
   ]
  },
  {
   "cell_type": "code",
   "execution_count": 20,
   "metadata": {
    "id": "zQL0lFiHRwFo"
   },
   "outputs": [
    {
     "name": "stdout",
     "output_type": "stream",
     "text": [
      "\n",
      "\n",
      "\u001b[1m> Entering new AgentExecutor chain...\u001b[0m\n",
      "\u001b[32;1m\u001b[1;3mThought: I need to use the pandas function 'duplicated' to find the duplicate rows and then use the 'sum' function to count them.\n",
      "Action: python_repl_ast\n",
      "Action Input: df.duplicated().sum()\u001b[0m\u001b[36;1m\u001b[1;3m33616\u001b[0m\u001b[32;1m\u001b[1;3mI now know the final answer\n",
      "Final Answer: 33616\u001b[0m\n",
      "\n",
      "\u001b[1m> Finished chain.\u001b[0m\n"
     ]
    },
    {
     "data": {
      "text/plain": [
       "{'input': 'Count the duplicate rows in the dataset df1', 'output': '33616'}"
      ]
     },
     "execution_count": 20,
     "metadata": {},
     "output_type": "execute_result"
    }
   ],
   "source": [
    "# write your prompt using the agent1\n",
    "\n",
    "agent1(\"\"\"Count the duplicate rows in the dataset df1\"\"\")"
   ]
  },
  {
   "cell_type": "markdown",
   "metadata": {
    "id": "PamrDKNVSFYt"
   },
   "source": [
    "### Task 16: Removing Missing values.\n",
    "Incredible! We were successful in identify the duplicates. Now, let's create a prompt to ask our agent to drop rows with missing values from the playstore_reviews dataset."
   ]
  },
  {
   "cell_type": "code",
   "execution_count": 21,
   "metadata": {
    "id": "Tmm97GImSFdp"
   },
   "outputs": [
    {
     "name": "stdout",
     "output_type": "stream",
     "text": [
      "\n",
      "\n",
      "\u001b[1m> Entering new AgentExecutor chain...\u001b[0m\n",
      "\u001b[32;1m\u001b[1;3mThought: I need to use the dropna() function to remove rows with missing values.\n",
      "Action: python_repl_ast\n",
      "Action Input: df.dropna()\u001b[0m\u001b[36;1m\u001b[1;3m                                  App  \\\n",
      "0               10 Best Foods for You   \n",
      "1               10 Best Foods for You   \n",
      "3               10 Best Foods for You   \n",
      "4               10 Best Foods for You   \n",
      "5               10 Best Foods for You   \n",
      "...                               ...   \n",
      "64222  Housing-Real Estate & Property   \n",
      "64223  Housing-Real Estate & Property   \n",
      "64226  Housing-Real Estate & Property   \n",
      "64227  Housing-Real Estate & Property   \n",
      "64230  Housing-Real Estate & Property   \n",
      "\n",
      "                                       Translated_Review Sentiment  \\\n",
      "0      I like eat delicious food. That's I'm cooking ...  Positive   \n",
      "1        This help eating healthy exercise regular basis  Positive   \n",
      "3             Works great especially going grocery store  Positive   \n",
      "4                                           Best idea us  Positive   \n",
      "5                                               Best way  Positive   \n",
      "...                                                  ...       ...   \n",
      "64222  Most ads older many agents ..not much owner po...  Positive   \n",
      "64223  If photos posted portal load, fit purpose. I'm...  Positive   \n",
      "64226  Dumb app, I wanted post property rent give opt...  Negative   \n",
      "64227  I property business got link SMS happy perform...  Positive   \n",
      "64230  Useless app, I searched flats kondapur, Hydera...  Negative   \n",
      "\n",
      "       Sentiment_Polarity  Sentiment_Subjectivity  \n",
      "0                1.000000                0.533333  \n",
      "1                0.250000                0.288462  \n",
      "3                0.400000                0.875000  \n",
      "4                1.000000                0.300000  \n",
      "5                1.000000                0.300000  \n",
      "...                   ...                     ...  \n",
      "64222            0.173333                0.486667  \n",
      "64223            0.225000                0.447222  \n",
      "64226           -0.287500                0.250000  \n",
      "64227            0.800000                1.000000  \n",
      "64230           -0.316667                0.400000  \n",
      "\n",
      "[37427 rows x 5 columns]\u001b[0m\u001b[32;1m\u001b[1;3m I need to assign the updated dataframe to a new variable.\n",
      "Action: python_repl_ast\n",
      "Action Input: df1 = df.dropna()\u001b[0m\u001b[36;1m\u001b[1;3m\u001b[0m\u001b[32;1m\u001b[1;3m I now know the final answer\n",
      "Final Answer: df1 = df.dropna()\u001b[0m\n",
      "\n",
      "\u001b[1m> Finished chain.\u001b[0m\n"
     ]
    },
    {
     "data": {
      "text/plain": [
       "{'input': 'Perform the following operations on the dataset df1:\\nRemove all the rows in the dataset where there missing values in the cell\\nUpdate and display the dataframe accordingly',\n",
       " 'output': 'df1 = df.dropna()'}"
      ]
     },
     "execution_count": 21,
     "metadata": {},
     "output_type": "execute_result"
    }
   ],
   "source": [
    "# write your prompt using the agent1\n",
    "\n",
    "agent1(\"\"\"Perform the following operations on the dataset df1:\n",
    "Remove all the rows in the dataset where there missing values in the cell\n",
    "Update and display the dataframe accordingly\"\"\")"
   ]
  },
  {
   "cell_type": "markdown",
   "metadata": {
    "id": "V04WjL8VSFjr"
   },
   "source": [
    "### Task 17: Removing Duplicate Rows.\n",
    "Great progress! We were successful in dropped the missing values. Now, let's create a prompt to ask our agent to remove duplicate rows from the playstore_reviews dataset."
   ]
  },
  {
   "cell_type": "code",
   "execution_count": 22,
   "metadata": {
    "id": "8VCvHFXmSFoY"
   },
   "outputs": [
    {
     "name": "stdout",
     "output_type": "stream",
     "text": [
      "\n",
      "\n",
      "\u001b[1m> Entering new AgentExecutor chain...\u001b[0m\n",
      "\u001b[32;1m\u001b[1;3mThought: I need to use the drop_duplicates() function to remove duplicate rows from the dataframe.\n",
      "Action: python_repl_ast\n",
      "Action Input: df.drop_duplicates(keep='first', inplace=True)\u001b[0m\u001b[36;1m\u001b[1;3m\u001b[0m\u001b[32;1m\u001b[1;3mI now know the final answer\n",
      "Final Answer: The dataframe has been updated to remove all duplicate rows and keep only the first instance of each duplicated row.\u001b[0m\n",
      "\n",
      "\u001b[1m> Finished chain.\u001b[0m\n"
     ]
    },
    {
     "data": {
      "text/plain": [
       "{'input': 'Perform the following operations on the dataset:\\n1. Remove all the duplicate rows from the dataset and keep only the first instance of that duplicated row\\nupdate the dataframe accordingly and give me the output',\n",
       " 'output': 'The dataframe has been updated to remove all duplicate rows and keep only the first instance of each duplicated row.'}"
      ]
     },
     "execution_count": 22,
     "metadata": {},
     "output_type": "execute_result"
    }
   ],
   "source": [
    "# write your prompt using the agent1\n",
    "agent1(\"\"\"Perform the following operations on the dataset:\n",
    "1. Remove all the duplicate rows from the dataset and keep only the first instance of that duplicated row\n",
    "update the dataframe accordingly and give me the output\"\"\")"
   ]
  },
  {
   "cell_type": "code",
   "execution_count": 23,
   "metadata": {
    "id": "RW-lnKgxFoR2"
   },
   "outputs": [],
   "source": [
    "# export the cleaned dataframe 'df1' with the name 'cleaned_reviews_db.csv' using the parameter index=True.\n",
    "\n",
    "df1.to_csv(\"cleaned_reviews_db.csv\")"
   ]
  },
  {
   "cell_type": "code",
   "execution_count": null,
   "metadata": {},
   "outputs": [],
   "source": []
  }
 ],
 "metadata": {
  "colab": {
   "provenance": []
  },
  "kernelspec": {
   "display_name": "Python 3 (ipykernel)",
   "language": "python",
   "name": "python3"
  },
  "language_info": {
   "codemirror_mode": {
    "name": "ipython",
    "version": 3
   },
   "file_extension": ".py",
   "mimetype": "text/x-python",
   "name": "python",
   "nbconvert_exporter": "python",
   "pygments_lexer": "ipython3",
   "version": "3.11.5"
  }
 },
 "nbformat": 4,
 "nbformat_minor": 1
}
